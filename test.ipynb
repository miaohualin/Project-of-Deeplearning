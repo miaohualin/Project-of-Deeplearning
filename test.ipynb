{
 "cells": [
  {
   "cell_type": "code",
   "execution_count": 2,
   "metadata": {},
   "outputs": [],
   "source": [
    "import numpy as np\n",
    "import Ipynb_importer\n",
    "from model import *\n",
    "import h5py\n",
    "import matplotlib.pyplot as plt"
   ]
  },
  {
   "cell_type": "code",
   "execution_count": 3,
   "metadata": {},
   "outputs": [
    {
     "name": "stdout",
     "output_type": "stream",
     "text": [
      "Cost after iteration 0: 0.693147\n",
      "Cost after iteration 100: 0.584508\n",
      "Cost after iteration 200: 0.466949\n",
      "Cost after iteration 300: 0.376007\n",
      "Cost after iteration 400: 0.331463\n",
      "Cost after iteration 500: 0.303273\n",
      "Cost after iteration 600: 0.279880\n",
      "Cost after iteration 700: 0.260042\n",
      "Cost after iteration 800: 0.242941\n",
      "Cost after iteration 900: 0.228004\n",
      "Cost after iteration 1000: 0.214820\n",
      "Cost after iteration 1100: 0.203078\n",
      "Cost after iteration 1200: 0.192544\n",
      "Cost after iteration 1300: 0.183033\n",
      "Cost after iteration 1400: 0.174399\n",
      "Cost after iteration 1500: 0.166521\n",
      "Cost after iteration 1600: 0.159305\n",
      "Cost after iteration 1700: 0.152667\n",
      "Cost after iteration 1800: 0.146542\n",
      "Cost after iteration 1900: 0.140872\n",
      "Train accuracy: 99.04306220095694 %\n",
      "Test accuracy: 70.0 %\n"
     ]
    },
    {
     "data": {
      "image/png": "[encoded data removed]",
      "text/plain": [
       "<matplotlib.figure.Figure at 0x2121b01c2e8>"
      ]
     },
     "metadata": {},
     "output_type": "display_data"
    },
    {
     "data": {
      "text/plain": [
       "'\\n\\nlearning_rate = [0.01, 0.001, 0.0001]\\n\\nmodels = {}\\n\\nfor i in learning_rate:\\n\\n    print(\"Learning rate is: \" + str(i))\\n\\n    models[str(i)] = model(train_x, train_y, test_x, test_y, num_iterations = 1500, learning_rate = i, print_cost = False)\\n\\n    print(\\'\\n\\' + \"-------------------------------------------\" + \\'\\n\\')\\n\\nfor i in learning_rate:\\n    plt.plot(np.squeeze(models[str(i)][\"costs\"]), label = str(models[str(i)][\"learning_rate\"]))\\nplt.xlabel(\\'cost\\')\\nplt.xlabel(\\'iterations (per hundreds)\\')\\nplt.ylabel(\\'cost\\')\\nplt.show()\\n'"
      ]
     },
     "execution_count": 3,
     "metadata": {},
     "output_type": "execute_result"
    }
   ],
   "source": [
    "# Loading original data\n",
    "\n",
    "train_dataset = h5py.File('train_catvnoncat.h5', \"r\")\n",
    "train_x_orig = np.array(train_dataset[\"train_set_x\"][:])\n",
    "train_y_orig = np.array(train_dataset[\"train_set_y\"][:])\n",
    "\n",
    "test_dataset = h5py.File('test_catvnoncat.h5', \"r\")\n",
    "test_x_orig = np.array(test_dataset[\"test_set_x\"][:])\n",
    "test_y_orig = np.array(test_dataset[\"test_set_y\"][:])\n",
    "\n",
    "classes = np.array(test_dataset[\"list_classes\"][:])\n",
    "\n",
    "train_y = train_y_orig.reshape((1, train_y_orig.shape[0]))\n",
    "test_y = test_y_orig.reshape((1, test_y_orig.shape[0]))\n",
    "\n",
    "# Example of a picture\n",
    "\n",
    "\"\"\"\n",
    "\n",
    "index = 25\n",
    "\n",
    "plt.imshow(train_x_orig[index])\n",
    "\n",
    "print (\"y = \" + str(train_y[:, index]) + \", it's a '\" + classes[np.squeeze(train_y[:, index])].decode(\"utf-8\") +  \"' picture.\")\n",
    "\n",
    "plt.show()\n",
    "\n",
    "\"\"\"\n",
    "\n",
    "# Reshape data\n",
    "\n",
    "m_train = train_y.shape[1]\n",
    "m_test = test_y.shape[1]\n",
    "num_px = train_x_orig.shape[1]\n",
    "\n",
    "# Train and test data\n",
    "\n",
    "\"\"\"\n",
    "\n",
    "print (\"Number of training examples: m_train = \" + str(m_train))\n",
    "\n",
    "print (\"Number of testing examples: m_test = \" + str(m_test))\n",
    "\n",
    "print (\"Height/Width of each image: num_px = \" + str(num_px))\n",
    "\n",
    "print (\"Each image is of size: (\" + str(num_px) + \", \" + str(num_px) + \", 3)\")\n",
    "\n",
    "print (\"train_x_orig shape: \" + str(train_x_orig.shape))\n",
    "\n",
    "print (\"train_y shape: \" + str(train_y.shape))\n",
    "\n",
    "print (\"test_x_orig shape: \" + str(test_x_orig.shape))\n",
    "\n",
    "print (\"test_y shape: \" + str(test_y.shape))\n",
    "\n",
    "\"\"\"\n",
    "\n",
    "# Reshape the training and test data\n",
    "\n",
    "train_x = train_x_orig.reshape(m_train, num_px * num_px * 3).T / 255\n",
    "test_x = test_x_orig.reshape(m_test, num_px * num_px * 3).T / 255\n",
    "\n",
    "\"\"\"\n",
    "\n",
    "print (\"train_x shape: \" + str(train_x.shape))\n",
    "\n",
    "print (\"train_y shape: \" + str(train_y.shape))\n",
    "\n",
    "print (\"test_x shape: \" + str(test_x.shape))\n",
    "\n",
    "print (\"test_y shape: \" + str(test_y.shape))\n",
    "\n",
    "\"\"\"\n",
    "\n",
    "# Logistic regression model\n",
    "\n",
    "d = model(train_x, train_y, test_x, test_y, num_iterations = 2000, learning_rate = 0.005, print_cost = True)\n",
    "\n",
    "# Plot learning curve\n",
    "\n",
    "costs = np.squeeze(d[\"costs\"])\n",
    "plt.plot(costs)\n",
    "plt.xlabel('iterations (per hundreds)')\n",
    "plt.ylabel('cost')\n",
    "plt.title('Learning rate = '+ str(d[\"learning_rate\"]))\n",
    "plt.show()\n",
    "\n",
    "# Choice of learning rate\n",
    "\n",
    "\"\"\"\n",
    "\n",
    "learning_rate = [0.01, 0.001, 0.0001]\n",
    "\n",
    "models = {}\n",
    "\n",
    "for i in learning_rate:\n",
    "\n",
    "    print(\"Learning rate is: \" + str(i))\n",
    "\n",
    "    models[str(i)] = model(train_x, train_y, test_x, test_y, num_iterations = 1500, learning_rate = i, print_cost = False)\n",
    "\n",
    "    print('\\n' + \"-------------------------------------------\" + '\\n')\n",
    "\n",
    "for i in learning_rate:\n",
    "    plt.plot(np.squeeze(models[str(i)][\"costs\"]), label = str(models[str(i)][\"learning_rate\"]))\n",
    "plt.xlabel('cost')\n",
    "plt.xlabel('iterations (per hundreds)')\n",
    "plt.ylabel('cost')\n",
    "plt.show()\n",
    "\"\"\""
   ]
  },
  {
   "cell_type": "code",
   "execution_count": null,
   "metadata": {},
   "outputs": [],
   "source": []
  },
  {
   "cell_type": "code",
   "execution_count": null,
   "metadata": {},
   "outputs": [],
   "source": []
  }
 ],
 "metadata": {
  "kernelspec": {
   "display_name": "Python 3",
   "language": "python",
   "name": "python3"
  },
  "language_info": {
   "codemirror_mode": {
    "name": "ipython",
    "version": 3
   },
   "file_extension": ".py",
   "mimetype": "text/x-python",
   "name": "python",
   "nbconvert_exporter": "python",
   "pygments_lexer": "ipython3",
   "version": "3.5.4"
  }
 },
 "nbformat": 4,
 "nbformat_minor": 2
}

{
 "cells": [
  {
   "cell_type": "code",
   "execution_count": 1,
   "metadata": {},
   "outputs": [
    {
     "name": "stdout",
     "output_type": "stream",
     "text": [
      "importing Jupyter notebook from initialize_zeros.ipynb\n",
      "importing Jupyter notebook from optimize.ipynb\n",
      "importing Jupyter notebook from propagate.ipynb\n",
      "importing Jupyter notebook from predict.ipynb\n"
     ]
    }
   ],
   "source": [
    "import numpy as np\n",
    "import Ipynb_importer\n",
    "from initialize_zeros import *\n",
    "from optimize import *\n",
    "from predict import *"
   ]
  },
  {
   "cell_type": "code",
   "execution_count": 2,
   "metadata": {},
   "outputs": [],
   "source": [
    "def model(X_train,Y_train,X_test,Y_test,num_iterations = 2000,learning_rate = 0.5,print_cost = False):\n",
    "    \"\"\"\n",
    "    该函数构建逻辑回归模型\n",
    "    X_train -- training set of size (nx, m_train)\n",
    "    Y_train -- training \"label\" set of size (1, m_train)\n",
    "    X_test -- test set of size (nx, m_test)\n",
    "    Y_test -- test \"label\" set of size (1, m_test)\n",
    "    num_iterations -- number of iterations of the optimization loop\n",
    "    learning_rate -- learning rate of the gradient descent update rule\n",
    "    print_cost -- True to print the loss every 100 steps\n",
    "    Returns:\n",
    "    d -- dictionary containing information about the model\n",
    "    \"\"\"\n",
    "    w,b = initialize_zeros(X_train.shape[0])\n",
    "    params, grads, costs = optimize(w, b, X_train, Y_train, num_iterations, learning_rate, print_cost)\n",
    "    w = params[\"w\"]\n",
    "    b = params[\"b\"]\n",
    "    Y_prediction_train = predict(w, b, X_train)\n",
    "    Y_prediction_test = predict(w, b, X_test)\n",
    "    \n",
    "    # Print train/test accuracy\n",
    "    print(\"Train accuracy: {} %\".format(100 - np.mean(np.abs(Y_prediction_train - Y_train)) * 100))\n",
    "    print(\"Test accuracy: {} %\".format(100 - np.mean(np.abs(Y_prediction_test - Y_test)) * 100))\n",
    "    \n",
    "    d = {\"costs\": costs, \"Y_prediction_train\": Y_prediction_train, \"Y_prediction_test\": Y_prediction_test, \"w\": w, \"b\": b, \"learning_rate\": learning_rate, \"num_iterations\": num_iterations}\n",
    "    return d"
   ]
  },
  {
   "cell_type": "code",
   "execution_count": null,
   "metadata": {},
   "outputs": [],
   "source": []
  }
 ],
 "metadata": {
  "kernelspec": {
   "display_name": "Python 3",
   "language": "python",
   "name": "python3"
  },
  "language_info": {
   "codemirror_mode": {
    "name": "ipython",
    "version": 3
   },
   "file_extension": ".py",
   "mimetype": "text/x-python",
   "name": "python",
   "nbconvert_exporter": "python",
   "pygments_lexer": "ipython3",
   "version": "3.5.4"
  }
 },
 "nbformat": 4,
 "nbformat_minor": 2
}

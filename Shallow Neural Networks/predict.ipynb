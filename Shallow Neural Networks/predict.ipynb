{
 "cells": [
  {
   "cell_type": "code",
   "execution_count": 1,
   "metadata": {},
   "outputs": [
    {
     "name": "stdout",
     "output_type": "stream",
     "text": [
      "importing Jupyter notebook from forward.ipynb\n"
     ]
    }
   ],
   "source": [
    "import numpy as np\n",
    "import Ipynb_importer\n",
    "from forward import *"
   ]
  },
  {
   "cell_type": "code",
   "execution_count": 2,
   "metadata": {},
   "outputs": [],
   "source": [
    "def predict(X, parameters):\n",
    "    \"\"\"\n",
    "\n",
    "    Arguments:\n",
    "\n",
    "    X -- input data of shape (2, number of examples)\n",
    "\n",
    "    parameters -- parameters learnt by model \"W1\", \"b1\", \"W2\", \"b2\"\n",
    "\n",
    "    Returns:\n",
    "\n",
    "    predictions -- vector of predictions of the nn_model (red: 0 / blue: 1)\n",
    "\n",
    "    \"\"\"\n",
    "\n",
    "    A2, cache = forward(X, parameters)\n",
    "    predictions = (A2 > 0.5)\n",
    "\n",
    "    return predictions"
   ]
  },
  {
   "cell_type": "code",
   "execution_count": 3,
   "metadata": {},
   "outputs": [
    {
     "name": "stdout",
     "output_type": "stream",
     "text": [
      "predictions mean = 0.666666666667\n"
     ]
    }
   ],
   "source": [
    "#Test\n",
    "\"\"\"\n",
    "np.random.seed(1)\n",
    "\n",
    "X = np.random.randn(2, 3)\n",
    "\n",
    "parameters = {'W1': np.array([[-0.00615039,  0.0169021 ], [-0.02311792,  0.03137121], [-0.0169217 , -0.01752545], [ 0.00935436, -0.05018221]]),\n",
    "\n",
    "              'W2': np.array([[-0.0104319 , -0.04019007,  0.01607211,  0.04440255]]),\n",
    "\n",
    "              'b1': np.array([[ -8.97523455e-07], [  8.15562092e-06], [  6.04810633e-07], [ -2.54560700e-06]]),\n",
    "\n",
    "              'b2': np.array([[  9.14954378e-05]])}\n",
    "\n",
    "predictions = predict(X, parameters)\n",
    "\n",
    "print(\"predictions mean = \" + str(np.mean(predictions)))\n",
    "\n",
    "\"\"\"\n"
   ]
  },
  {
   "cell_type": "code",
   "execution_count": null,
   "metadata": {},
   "outputs": [],
   "source": []
  }
 ],
 "metadata": {
  "kernelspec": {
   "display_name": "Python 3",
   "language": "python",
   "name": "python3"
  },
  "language_info": {
   "codemirror_mode": {
    "name": "ipython",
    "version": 3
   },
   "file_extension": ".py",
   "mimetype": "text/x-python",
   "name": "python",
   "nbconvert_exporter": "python",
   "pygments_lexer": "ipython3",
   "version": "3.5.4"
  }
 },
 "nbformat": 4,
 "nbformat_minor": 2
}

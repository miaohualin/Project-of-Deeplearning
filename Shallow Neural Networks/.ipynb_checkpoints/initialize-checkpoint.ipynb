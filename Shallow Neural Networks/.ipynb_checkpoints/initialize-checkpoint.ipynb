{
 "cells": [
  {
   "cell_type": "code",
   "execution_count": 1,
   "metadata": {},
   "outputs": [],
   "source": [
    "import numpy as np"
   ]
  },
  {
   "cell_type": "code",
   "execution_count": 2,
   "metadata": {},
   "outputs": [],
   "source": [
    "def initialize(nx,nh,ny):\n",
    "    \"\"\"\n",
    "    Arguments:\n",
    "\n",
    "    nx -- size of input layer\n",
    "\n",
    "    nh -- size of hidden layer\n",
    "\n",
    "    ny -- size of output layer\n",
    "\n",
    "    Returns:\n",
    "\n",
    "    parameters -- dictionary containing parameters:\n",
    "\n",
    "                    W1: weight matrix of shape (nh, nx)\n",
    "\n",
    "                    b1: bias vector of shape (nh, 1)\n",
    "\n",
    "                    W2: weight matrix of shape (ny, nh)\n",
    "\n",
    "                    b2: bias vector of shape (ny, 1)\n",
    "                    \n",
    "    seed( ) 用于指定随机数生成时所用算法开始的整数值,使得随机数可预测。 \n",
    "        当我们设置相同的seed，每次生成的随机数相同。\n",
    "        如果不设置seed，则每次会生成不同的随机数\n",
    "    \n",
    "    numpy.random.randn(d0, d1, …, dn)是从标准正态分布中返回一个或多个样本值。 \n",
    "    numpy.random.rand(d0, d1, …, dn)的随机样本位于[0, 1)中。\n",
    "    \n",
    "    \"\"\"\n",
    "    np.random.seed(2)\n",
    "    W1 = np.random.randn(nh,nx)*0.01\n",
    "    b1 = np.zeros((nh,1))\n",
    "    W2 = np.random.randn(ny,nh)*0.01\n",
    "    b2 = np.zeros((ny,1))\n",
    "    \n",
    "    assert(W1.shape == (nh,nx))\n",
    "    assert(b1.shape == (nh,1))\n",
    "    assert(W2.shape == (ny,nh))\n",
    "    assert(b2.shape == (ny,1))\n",
    "    \n",
    "    parameters = {\"W1\":W1,\"b1\":b1,\"W2\":W2,\"b2\":b2}\n",
    "    \n",
    "    return parameters"
   ]
  },
  {
   "cell_type": "code",
   "execution_count": 3,
   "metadata": {},
   "outputs": [
    {
     "name": "stdout",
     "output_type": "stream",
     "text": [
      "W1 = [[-0.00416758 -0.00056267]\n",
      " [-0.02136196  0.01640271]\n",
      " [-0.01793436 -0.00841747]\n",
      " [ 0.00502881 -0.01245288]]\n",
      "b1 = [[ 0.]\n",
      " [ 0.]\n",
      " [ 0.]\n",
      " [ 0.]]\n",
      "W2 = [[-0.01057952 -0.00909008  0.00551454  0.02292208]]\n",
      "b2 = [[ 0.]]\n"
     ]
    }
   ],
   "source": [
    "#Test\n",
    "\"\"\"\n",
    "parameters = initialize(2, 4, 1)\n",
    "\n",
    "print(\"W1 = \" + str(parameters[\"W1\"]))\n",
    "\n",
    "print(\"b1 = \" + str(parameters[\"b1\"]))\n",
    "\n",
    "print(\"W2 = \" + str(parameters[\"W2\"]))\n",
    "\n",
    "print(\"b2 = \" + str(parameters[\"b2\"]))\n",
    "\n",
    "\"\"\"\n"
   ]
  },
  {
   "cell_type": "code",
   "execution_count": null,
   "metadata": {},
   "outputs": [],
   "source": []
  }
 ],
 "metadata": {
  "kernelspec": {
   "display_name": "Python 3",
   "language": "python",
   "name": "python3"
  },
  "language_info": {
   "codemirror_mode": {
    "name": "ipython",
    "version": 3
   },
   "file_extension": ".py",
   "mimetype": "text/x-python",
   "name": "python",
   "nbconvert_exporter": "python",
   "pygments_lexer": "ipython3",
   "version": "3.5.4"
  }
 },
 "nbformat": 4,
 "nbformat_minor": 2
}

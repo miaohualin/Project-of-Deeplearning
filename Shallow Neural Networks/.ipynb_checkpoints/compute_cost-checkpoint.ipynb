{
 "cells": [
  {
   "cell_type": "code",
   "execution_count": 6,
   "metadata": {},
   "outputs": [],
   "source": [
    "import numpy as np"
   ]
  },
  {
   "cell_type": "code",
   "execution_count": null,
   "metadata": {},
   "outputs": [],
   "source": []
  },
  {
   "cell_type": "code",
   "execution_count": 8,
   "metadata": {},
   "outputs": [],
   "source": [
    "def compute_cost(A2, Y):\n",
    "    \"\"\"\n",
    "\n",
    "    Compute the cross-entropy cost\n",
    "\n",
    "\n",
    "\n",
    "    Arguments:\n",
    "\n",
    "    A2 -- The sigmoid output of the second activation, of shape (1, number of examples)\n",
    "\n",
    "    Y -- \"true\" labels vector of size (1, number of samples)\n",
    "\n",
    "\n",
    "\n",
    "    Returns:\n",
    "\n",
    "    cost -- cross-entropy cost\n",
    "\n",
    "    \"\"\"\n",
    "\n",
    "    m = Y.shape[1]\n",
    "    cost = np.sum(np.multiply(Y, np.log(A2)) + np.multiply((1 - Y), np.log(1 - A2))) / (- m)\n",
    "    cost = np.squeeze(cost)\n",
    "\n",
    "    assert (isinstance(cost, float))\n",
    "\n",
    "    return cost"
   ]
  },
  {
   "cell_type": "code",
   "execution_count": 10,
   "metadata": {},
   "outputs": [
    {
     "name": "stdout",
     "output_type": "stream",
     "text": [
      "cost = 0.693058761039\n",
      "Y: [[ True False False]]\n"
     ]
    }
   ],
   "source": [
    "#Test\n",
    "\"\"\"\n",
    "np.random.seed(1)\n",
    "\n",
    "Y = (np.random.randn(1, 3) > 0)\n",
    "\n",
    "A2 = (np.array([[ 0.5002307 ,  0.49985831,  0.50023963]]))\n",
    "\n",
    "cost = compute_cost(A2, Y)\n",
    "\n",
    "print(\"cost = \" + str(cost))\n",
    "print(\"Y:\",Y)\n",
    "\n",
    "\"\"\""
   ]
  },
  {
   "cell_type": "code",
   "execution_count": null,
   "metadata": {},
   "outputs": [],
   "source": []
  },
  {
   "cell_type": "code",
   "execution_count": null,
   "metadata": {},
   "outputs": [],
   "source": []
  },
  {
   "cell_type": "code",
   "execution_count": null,
   "metadata": {},
   "outputs": [],
   "source": []
  },
  {
   "cell_type": "code",
   "execution_count": null,
   "metadata": {},
   "outputs": [],
   "source": []
  },
  {
   "cell_type": "code",
   "execution_count": null,
   "metadata": {},
   "outputs": [],
   "source": []
  },
  {
   "cell_type": "code",
   "execution_count": null,
   "metadata": {},
   "outputs": [],
   "source": []
  },
  {
   "cell_type": "code",
   "execution_count": null,
   "metadata": {},
   "outputs": [],
   "source": []
  }
 ],
 "metadata": {
  "kernelspec": {
   "display_name": "Python 3",
   "language": "python",
   "name": "python3"
  },
  "language_info": {
   "codemirror_mode": {
    "name": "ipython",
    "version": 3
   },
   "file_extension": ".py",
   "mimetype": "text/x-python",
   "name": "python",
   "nbconvert_exporter": "python",
   "pygments_lexer": "ipython3",
   "version": "3.5.4"
  }
 },
 "nbformat": 4,
 "nbformat_minor": 2
}

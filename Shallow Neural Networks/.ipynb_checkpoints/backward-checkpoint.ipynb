{
 "cells": [
  {
   "cell_type": "code",
   "execution_count": 1,
   "metadata": {},
   "outputs": [],
   "source": [
    "import numpy as np"
   ]
  },
  {
   "cell_type": "code",
   "execution_count": 4,
   "metadata": {},
   "outputs": [],
   "source": [
    "def backward(X,Y,parameters,cache):\n",
    "    \"\"\"\n",
    "    Implement the backward propagation\n",
    "\n",
    "    Arguments:\n",
    "\n",
    "    X -- input data of shape (2, number of examples)\n",
    "\n",
    "    Y -- \"true\" labels vector of shape (1, number of examples)\n",
    "\n",
    "    parameters -- dictionary containing parameters \"W1\", \"b1\", \"W2\", \"b2\"\n",
    "\n",
    "    cache -- dictionary containing \"Z1\", \"A1\", \"Z2\" and \"A2\"\n",
    "\n",
    "    Returns:\n",
    "\n",
    "    grads -- dictionary containing gradients \"dW1\", \"db1\", \"dW2\", \"db2\"\n",
    "\n",
    "    \"\"\"\n",
    "    m = Y.shape[1]\n",
    "    dZ2 = cache[\"A2\"]-Y\n",
    "    dW2 = np.dot(dZ2,cache[\"A1\"].T)/m\n",
    "    db2 = np.sum(dZ2, axis = 1, keepdims = True) / m\n",
    "    dZ1 = np.multiply(np.dot(parameters[\"W2\"].T, dZ2), (1 - np.power(cache[\"A1\"], 2)))       # For tanh, g'(z) = 1 - g(z)^2\n",
    "\n",
    "    dW1 = np.dot(dZ1, X.T) / m\n",
    "    db1 = np.sum(dZ1, axis = 1, keepdims = True) / m\n",
    "   \n",
    "    grads = {\"dW1\":dW1,\"db1\":db1,\"dW2\":dW2,\"db2\":db2}\n",
    "    return grads"
   ]
  },
  {
   "cell_type": "code",
   "execution_count": null,
   "metadata": {},
   "outputs": [],
   "source": []
  },
  {
   "cell_type": "code",
   "execution_count": 5,
   "metadata": {},
   "outputs": [
    {
     "name": "stdout",
     "output_type": "stream",
     "text": [
      "dW1 = [[ 0.00301023 -0.00747267]\n",
      " [ 0.00257968 -0.00641288]\n",
      " [-0.00156892  0.003893  ]\n",
      " [-0.00652037  0.01618243]]\n",
      "db1 = [[ 0.00176201]\n",
      " [ 0.00150995]\n",
      " [-0.00091736]\n",
      " [-0.00381422]]\n",
      "dW2 = [[ 0.00078841  0.01765429 -0.00084166 -0.01022527]]\n",
      "db2 = [[-0.16655712]]\n"
     ]
    }
   ],
   "source": [
    "#Test\n",
    "\"\"\"\n",
    "np.random.seed(1)\n",
    "\n",
    "X = np.random.randn(2, 3)\n",
    "\n",
    "Y = (np.random.randn(1, 3) > 0)\n",
    "\n",
    "parameters = {'W1': np.array([[-0.00416758, -0.00056267], [-0.02136196,  0.01640271], [-0.01793436, -0.00841747], [ 0.00502881, -0.01245288]]),\n",
    "\n",
    "              'W2': np.array([[-0.01057952, -0.00909008,  0.00551454,  0.02292208]]),\n",
    "\n",
    "              'b1': np.array([[ 0.], [ 0.], [ 0.], [ 0.]]),\n",
    "\n",
    "              'b2': np.array([[ 0.]])}\n",
    "\n",
    "cache = {'A1': np.array([[-0.00616578,  0.0020626 ,  0.00349619], [-0.05225116,  0.02725659, -0.02646251], [-0.02009721,  0.0036869 ,  0.02883756], [ 0.02152675, -0.01385234,  0.02599885]]),\n",
    "\n",
    "         'A2': np.array([[ 0.5002307 ,  0.49985831,  0.50023963]]),\n",
    "\n",
    "         'Z1': np.array([[-0.00616586,  0.0020626 ,  0.0034962 ], [-0.05229879,  0.02726335, -0.02646869], [-0.02009991,  0.00368692,  0.02884556], [ 0.02153007, -0.01385322,  0.02600471]]),\n",
    "\n",
    "         'Z2': np.array([[ 0.00092281, -0.00056678,  0.00095853]])}\n",
    "\n",
    "grads = backward(X, Y, parameters, cache)\n",
    "\n",
    "print (\"dW1 = \"+ str(grads[\"dW1\"]))\n",
    "\n",
    "print (\"db1 = \"+ str(grads[\"db1\"]))\n",
    "\n",
    "print (\"dW2 = \"+ str(grads[\"dW2\"]))\n",
    "\n",
    "print (\"db2 = \"+ str(grads[\"db2\"]))\n",
    "\n",
    "\"\"\"\n",
    "\n"
   ]
  },
  {
   "cell_type": "code",
   "execution_count": null,
   "metadata": {},
   "outputs": [],
   "source": []
  },
  {
   "cell_type": "code",
   "execution_count": null,
   "metadata": {},
   "outputs": [],
   "source": []
  }
 ],
 "metadata": {
  "kernelspec": {
   "display_name": "Python 3",
   "language": "python",
   "name": "python3"
  },
  "language_info": {
   "codemirror_mode": {
    "name": "ipython",
    "version": 3
   },
   "file_extension": ".py",
   "mimetype": "text/x-python",
   "name": "python",
   "nbconvert_exporter": "python",
   "pygments_lexer": "ipython3",
   "version": "3.5.4"
  }
 },
 "nbformat": 4,
 "nbformat_minor": 2
}

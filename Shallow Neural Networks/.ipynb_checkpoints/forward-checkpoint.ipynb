{
 "cells": [
  {
   "cell_type": "code",
   "execution_count": 1,
   "metadata": {},
   "outputs": [],
   "source": [
    "import numpy as np"
   ]
  },
  {
   "cell_type": "code",
   "execution_count": 2,
   "metadata": {},
   "outputs": [],
   "source": [
    "def sigmoid(z):\n",
    "    a = 1/(1+np.exp(-z))\n",
    "    return a"
   ]
  },
  {
   "cell_type": "code",
   "execution_count": 5,
   "metadata": {},
   "outputs": [],
   "source": [
    "def forward(X,parameters):\n",
    "    \"\"\"\n",
    "    Arguments:\n",
    "\n",
    "    X -- input data of size (nx, m)\n",
    "\n",
    "    parameters -- dictionary containing parameters \"W1\", \"b1\", \"W2\", \"b2\"(output of initialize function)\n",
    "\n",
    "    Returns:\n",
    "\n",
    "    A2 -- The sigmoid output of the second activation\n",
    "\n",
    "    cache -- a dictionary containing \"Z1\", \"A1\", \"Z2\" and \"A2\"\n",
    "\n",
    "    \"\"\"\n",
    "    Z1 = np.dot(parameters[\"W1\"],X)+parameters[\"b1\"]\n",
    "    A1 = np.tanh(Z1)\n",
    "    Z2 = np.dot(parameters[\"W2\"],A1)+parameters[\"b2\"]\n",
    "    A2 = sigmoid(Z2)\n",
    "    \n",
    "    assert(A2.shape == (1, X.shape[1]))\n",
    "    \n",
    "    cache = {\"Z1\":Z1,\"A1\":A1,\"Z2\":Z2,\"A2\":A2}\n",
    "    return A2,cache"
   ]
  },
  {
   "cell_type": "code",
   "execution_count": null,
   "metadata": {},
   "outputs": [],
   "source": []
  },
  {
   "cell_type": "code",
   "execution_count": 6,
   "metadata": {},
   "outputs": [
    {
     "name": "stdout",
     "output_type": "stream",
     "text": [
      "0.262818640198 0.091999045227 -1.30766601287 0.212877681719\n"
     ]
    }
   ],
   "source": [
    "#Test\n",
    "\"\"\"\n",
    "np.random.seed(1)\n",
    "\n",
    "X = np.random.randn(2, 3)\n",
    "\n",
    "b1 = np.random.randn(4,1)\n",
    "\n",
    "b2 = np.array([[ -1.3]])\n",
    "\n",
    "parameters = {'W1': np.array([[-0.00416758, -0.00056267], [-0.02136196,  0.01640271], [-0.01793436, -0.00841747], [ 0.00502881, -0.01245288]]),\n",
    "\n",
    "              'W2': np.array([[-0.01057952, -0.00909008,  0.00551454,  0.02292208]]),\n",
    "\n",
    "              'b1': b1,\n",
    "\n",
    "              'b2': b2}\n",
    "\n",
    "A2, cache = forward(X, parameters)\n",
    "\n",
    "print(np.mean(cache['Z1']) ,np.mean(cache['A1']),np.mean(cache['Z2']),np.mean(cache['A2']))\n",
    "\n",
    "\"\"\""
   ]
  },
  {
   "cell_type": "code",
   "execution_count": null,
   "metadata": {},
   "outputs": [],
   "source": []
  },
  {
   "cell_type": "code",
   "execution_count": null,
   "metadata": {},
   "outputs": [],
   "source": []
  }
 ],
 "metadata": {
  "kernelspec": {
   "display_name": "Python 3",
   "language": "python",
   "name": "python3"
  },
  "language_info": {
   "codemirror_mode": {
    "name": "ipython",
    "version": 3
   },
   "file_extension": ".py",
   "mimetype": "text/x-python",
   "name": "python",
   "nbconvert_exporter": "python",
   "pygments_lexer": "ipython3",
   "version": "3.5.4"
  }
 },
 "nbformat": 4,
 "nbformat_minor": 2
}

{
 "cells": [
  {
   "cell_type": "code",
   "execution_count": 4,
   "metadata": {},
   "outputs": [],
   "source": [
    "import numpy as np\n",
    "import Ipynb_importer\n",
    "from initialize import *\n",
    "from forward import *\n",
    "from compute_cost import *\n",
    "from backward import *\n",
    "from update_parameters import *"
   ]
  },
  {
   "cell_type": "code",
   "execution_count": null,
   "metadata": {},
   "outputs": [],
   "source": []
  },
  {
   "cell_type": "code",
   "execution_count": 7,
   "metadata": {},
   "outputs": [],
   "source": [
    "def nn_model(X, Y, nh, num_iterations = 10000, print_cost = False):\n",
    "    \"\"\"\n",
    "\n",
    "    Arguments:\n",
    "\n",
    "    X -- input data of shape (2, number of examples)\n",
    "\n",
    "    Y -- \"true\" labels vector of size (1, number of samples)\n",
    "\n",
    "    nh -- size of hidden layer\n",
    "\n",
    "    num_iterations -- number of iterations in gradient descent loop\n",
    "\n",
    "    print_cost -- if True, print the cost every 1000 iterations\n",
    "\n",
    "\n",
    "\n",
    "    Returns:\n",
    "\n",
    "    parameter -- parameters learnt by the model, which can be used to predict\n",
    "\n",
    "    \"\"\"\n",
    "    np.random.seed(3)\n",
    "    nx = X.shape[0]\n",
    "    ny = Y.shape[0]\n",
    "    m = X.shape[1]\n",
    "\n",
    "    parameters = initialize(nx, nh, ny)\n",
    "\n",
    "    for i in range(0, num_iterations):\n",
    "        A2, cache = forward(X, parameters)\n",
    "        grads = backward(X, Y, parameters, cache)\n",
    "        parameters = update_parameters(parameters, grads)\n",
    "\n",
    "        if print_cost and i % 1000 == 0:\n",
    "            cost = compute_cost(A2, Y)\n",
    "            print(\"Cost after iteration %i: %f \" %(i, cost))\n",
    "\n",
    "    return parameters"
   ]
  },
  {
   "cell_type": "code",
   "execution_count": 8,
   "metadata": {},
   "outputs": [
    {
     "name": "stdout",
     "output_type": "stream",
     "text": [
      "Cost after iteration 0: 0.692739 \n",
      "Cost after iteration 1000: 0.000218 \n",
      "Cost after iteration 2000: 0.000107 \n",
      "Cost after iteration 3000: 0.000071 \n",
      "Cost after iteration 4000: 0.000053 \n",
      "Cost after iteration 5000: 0.000042 \n",
      "Cost after iteration 6000: 0.000035 \n",
      "Cost after iteration 7000: 0.000030 \n",
      "Cost after iteration 8000: 0.000026 \n",
      "Cost after iteration 9000: 0.000023 \n",
      "W1 = [[-0.65848169  1.21866811]\n",
      " [-0.76204273  1.39377573]\n",
      " [ 0.5792005  -1.10397703]\n",
      " [ 0.76773391 -1.41477129]]\n",
      "b1 = [[ 0.287592  ]\n",
      " [ 0.3511264 ]\n",
      " [-0.2431246 ]\n",
      " [-0.35772805]]\n",
      "W2 = [[-2.45566237 -3.27042274  2.00784958  3.36773273]]\n",
      "b2 = [[ 0.20459656]]\n"
     ]
    }
   ],
   "source": [
    "#Test\n",
    "\"\"\"\n",
    "np.random.seed(1)\n",
    "\n",
    "X = np.random.randn(2, 3)\n",
    "\n",
    "Y = (np.random.randn(1, 3) > 0)\n",
    "\n",
    "parameters = nn_model(X, Y, 4, num_iterations = 10000, print_cost = True)\n",
    "\n",
    "print(\"W1 = \" + str(parameters[\"W1\"]))\n",
    "\n",
    "print(\"b1 = \" + str(parameters[\"b1\"]))\n",
    "\n",
    "print(\"W2 = \" + str(parameters[\"W2\"]))\n",
    "\n",
    "print(\"b2 = \" + str(parameters[\"b2\"]))\n",
    "\n",
    "\"\"\"\n"
   ]
  },
  {
   "cell_type": "code",
   "execution_count": null,
   "metadata": {},
   "outputs": [],
   "source": []
  },
  {
   "cell_type": "code",
   "execution_count": null,
   "metadata": {},
   "outputs": [],
   "source": []
  },
  {
   "cell_type": "code",
   "execution_count": null,
   "metadata": {},
   "outputs": [],
   "source": []
  },
  {
   "cell_type": "code",
   "execution_count": null,
   "metadata": {},
   "outputs": [],
   "source": []
  },
  {
   "cell_type": "code",
   "execution_count": null,
   "metadata": {},
   "outputs": [],
   "source": []
  }
 ],
 "metadata": {
  "kernelspec": {
   "display_name": "Python 3",
   "language": "python",
   "name": "python3"
  },
  "language_info": {
   "codemirror_mode": {
    "name": "ipython",
    "version": 3
   },
   "file_extension": ".py",
   "mimetype": "text/x-python",
   "name": "python",
   "nbconvert_exporter": "python",
   "pygments_lexer": "ipython3",
   "version": "3.5.4"
  }
 },
 "nbformat": 4,
 "nbformat_minor": 2
}

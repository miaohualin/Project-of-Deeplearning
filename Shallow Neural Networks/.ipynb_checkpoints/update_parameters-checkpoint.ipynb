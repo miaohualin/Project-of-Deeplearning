{
 "cells": [
  {
   "cell_type": "code",
   "execution_count": 1,
   "metadata": {},
   "outputs": [],
   "source": [
    "import numpy as np"
   ]
  },
  {
   "cell_type": "code",
   "execution_count": 2,
   "metadata": {},
   "outputs": [],
   "source": [
    "def update_parameters(parameters,grads,learning_rate = 1.2):\n",
    "    \"\"\"\n",
    "    Updates parameters using the gradient descent\n",
    "\n",
    "    Arguments:\n",
    "\n",
    "    parameters -- dictionary containing parameters \"W1\", \"b1\", \"W2\", \"b2\" (output of initialize function)\n",
    "\n",
    "    grads -- dictionary containing gradients \"dW1\", \"db1\", \"dW2\", \"db2\"\n",
    "\n",
    "    learning_rate -- learning rate\n",
    "\n",
    "    Returns:\n",
    "\n",
    "    parameters -- updated parameters \"W1\", \"b1\", \"W2\", \"b2\"\n",
    "\n",
    "    \"\"\"\n",
    "    parameters[\"W1\"] = parameters[\"W1\"] - learning_rate * grads[\"dW1\"]\n",
    "    parameters[\"b1\"] = parameters[\"b1\"] - learning_rate * grads[\"db1\"]\n",
    "    parameters[\"W2\"] = parameters[\"W2\"] - learning_rate * grads[\"dW2\"]\n",
    "    parameters[\"b2\"] = parameters[\"b2\"] - learning_rate * grads[\"db2\"]\n",
    "\n",
    "    return parameters"
   ]
  },
  {
   "cell_type": "code",
   "execution_count": 3,
   "metadata": {},
   "outputs": [
    {
     "name": "stdout",
     "output_type": "stream",
     "text": [
      "W1 = [[-0.00643025  0.01936718]\n",
      " [-0.02410458  0.03978052]\n",
      " [-0.01653973 -0.02096177]\n",
      " [ 0.01046864 -0.05990141]]\n",
      "b1 = [[ -1.02420756e-06]\n",
      " [  1.27373948e-05]\n",
      " [  8.32996807e-07]\n",
      " [ -3.20136836e-06]]\n",
      "W2 = [[-0.01041081 -0.04463285  0.01758031  0.04747113]]\n",
      "b2 = [[ 0.00010457]]\n"
     ]
    }
   ],
   "source": [
    "#Test\n",
    "\"\"\"\n",
    "parameters = {'W1': np.array([[-0.00615039,  0.0169021 ], [-0.02311792,  0.03137121], [-0.0169217 , -0.01752545], [ 0.00935436, -0.05018221]]),\n",
    "\n",
    "              'W2': np.array([[-0.0104319 , -0.04019007,  0.01607211,  0.04440255]]),\n",
    "\n",
    "              'b1': np.array([[ -8.97523455e-07], [  8.15562092e-06], [  6.04810633e-07], [ -2.54560700e-06]]),\n",
    "\n",
    "              'b2': np.array([[  9.14954378e-05]])}\n",
    "\n",
    "grads = {'dW1': np.array([[ 0.00023322, -0.00205423], [ 0.00082222, -0.00700776], [-0.00031831,  0.0028636 ], [-0.00092857,  0.00809933]]),\n",
    "\n",
    "         'dW2': np.array([[ -1.75740039e-05,   3.70231337e-03,  -1.25683095e-03, -2.55715317e-03]]),\n",
    "\n",
    "         'db1': np.array([[  1.05570087e-07], [ -3.81814487e-06], [ -1.90155145e-07], [  5.46467802e-07]]),\n",
    "\n",
    "         'db2': np.array([[ -1.08923140e-05]])}\n",
    "\n",
    "parameters = update_parameters(parameters, grads)\n",
    "\n",
    "print(\"W1 = \" + str(parameters[\"W1\"]))\n",
    "\n",
    "print(\"b1 = \" + str(parameters[\"b1\"]))\n",
    "\n",
    "print(\"W2 = \" + str(parameters[\"W2\"]))\n",
    "\n",
    "print(\"b2 = \" + str(parameters[\"b2\"]))\n",
    "\n",
    "\"\"\"\n"
   ]
  },
  {
   "cell_type": "code",
   "execution_count": null,
   "metadata": {},
   "outputs": [],
   "source": []
  }
 ],
 "metadata": {
  "kernelspec": {
   "display_name": "Python 3",
   "language": "python",
   "name": "python3"
  },
  "language_info": {
   "codemirror_mode": {
    "name": "ipython",
    "version": 3
   },
   "file_extension": ".py",
   "mimetype": "text/x-python",
   "name": "python",
   "nbconvert_exporter": "python",
   "pygments_lexer": "ipython3",
   "version": "3.5.4"
  }
 },
 "nbformat": 4,
 "nbformat_minor": 2
}
